{
 "cells": [
  {
   "cell_type": "markdown",
   "id": "958f81dc",
   "metadata": {},
   "source": [
    "numpy"
   ]
  },
  {
   "cell_type": "markdown",
   "id": "1e8e84c1",
   "metadata": {},
   "source": [
    "Q.1 Convert a 1D array to a 2D array with 2 rows "
   ]
  },
  {
   "cell_type": "code",
   "execution_count": 1,
   "id": "9b25d1d2",
   "metadata": {},
   "outputs": [],
   "source": [
    "import numpy as np"
   ]
  },
  {
   "cell_type": "code",
   "execution_count": 7,
   "id": "cbb4cc39",
   "metadata": {},
   "outputs": [
    {
     "name": "stdout",
     "output_type": "stream",
     "text": [
      "[[1 2 3]\n",
      " [4 5 6]]\n"
     ]
    }
   ],
   "source": [
    "# Create a 1D array\n",
    "arr_1d = np.array([1, 2, 3, 4, 5, 6])\n",
    "\n",
    "# Reshape the array to 2D with 2 rows\n",
    "arr_2d = arr_1d.reshape(2, -1)\n",
    "\n",
    "print(arr_2d)"
   ]
  },
  {
   "cell_type": "markdown",
   "id": "89bf813b",
   "metadata": {},
   "source": [
    "Q.2 Get the common items between a and b "
   ]
  },
  {
   "cell_type": "code",
   "execution_count": 8,
   "id": "5c61723b",
   "metadata": {},
   "outputs": [],
   "source": [
    "a = np.array([1,2,3,2,3,4,3,4,5,6]) \n",
    "b = np.array([7,2,10,2,7,4,9,4,9,8])"
   ]
  },
  {
   "cell_type": "code",
   "execution_count": 9,
   "id": "2dedd94f",
   "metadata": {},
   "outputs": [
    {
     "name": "stdout",
     "output_type": "stream",
     "text": [
      "[2 4]\n"
     ]
    }
   ],
   "source": [
    "common_items = np.intersect1d(a, b)\n",
    "print(common_items)"
   ]
  },
  {
   "cell_type": "markdown",
   "id": "ea2294f1",
   "metadata": {},
   "source": [
    "Q.3  Get all items between 5 and 10 from a."
   ]
  },
  {
   "cell_type": "code",
   "execution_count": 10,
   "id": "ae02bdbf",
   "metadata": {},
   "outputs": [
    {
     "name": "stdout",
     "output_type": "stream",
     "text": [
      "[ 6  9 10]\n"
     ]
    }
   ],
   "source": [
    "a = np.array([2, 6, 1, 9, 10, 3, 27])\n",
    "output = a[np.where((a >= 5) & (a <= 10))]\n",
    "\n",
    "print(output)"
   ]
  },
  {
   "cell_type": "markdown",
   "id": "4d9f1758",
   "metadata": {},
   "source": [
    "Q.4 Limit the number of items printed in python NumPy array a to a maximum of 6 \n",
    "elements."
   ]
  },
  {
   "cell_type": "code",
   "execution_count": 11,
   "id": "2479bbb1",
   "metadata": {},
   "outputs": [
    {
     "name": "stdout",
     "output_type": "stream",
     "text": [
      "[ 0  1  2 ... 12 13 14]\n"
     ]
    }
   ],
   "source": [
    "# Input array\n",
    "a = np.array([0, 1, 2, 3, 4, 5, 6, 7, 8, 9, 10, 11, 12, 13, 14])\n",
    "\n",
    "# Set the print options\n",
    "np.set_printoptions(threshold=6)\n",
    "\n",
    "# Print the modified array\n",
    "print(a)"
   ]
  },
  {
   "cell_type": "markdown",
   "id": "bfb6456d",
   "metadata": {},
   "source": [
    "pandas"
   ]
  },
  {
   "cell_type": "markdown",
   "id": "28c19dc3",
   "metadata": {},
   "source": [
    "1.Compute the minimum, 25th percentile, median, 75th, and maximum of ser. "
   ]
  },
  {
   "cell_type": "code",
   "execution_count": 1,
   "id": "0921e801",
   "metadata": {},
   "outputs": [],
   "source": [
    "import pandas as pd"
   ]
  },
  {
   "cell_type": "code",
   "execution_count": 2,
   "id": "5228ba70",
   "metadata": {},
   "outputs": [],
   "source": [
    "# Assuming you have a Series called 'ser'\n",
    "ser = pd.Series([1, 2, 3, 4, 5, 6, 7, 8, 9, 10])\n",
    "\n",
    "# Compute the statistics using describe()\n",
    "statistics = ser.describe()\n",
    "\n",
    "# Extract the desired statistics\n",
    "minimum = statistics['min']\n",
    "percentile_25th = statistics['25%']\n",
    "median = statistics['50%']\n",
    "percentile_75th = statistics['75%']\n",
    "maximum = statistics['max']"
   ]
  },
  {
   "cell_type": "code",
   "execution_count": 3,
   "id": "2b5e1a06",
   "metadata": {},
   "outputs": [
    {
     "name": "stdout",
     "output_type": "stream",
     "text": [
      "Minimum: 1.0\n",
      "25th Percentile: 3.25\n",
      "Median: 5.5\n",
      "75th Percentile: 7.75\n",
      "Maximum: 10.0\n"
     ]
    }
   ],
   "source": [
    "print(\"Minimum:\", minimum)\n",
    "print(\"25th Percentile:\", percentile_25th)\n",
    "print(\"Median:\", median)\n",
    "print(\"75th Percentile:\", percentile_75th)\n",
    "print(\"Maximum:\", maximum)"
   ]
  },
  {
   "cell_type": "markdown",
   "id": "fd0d8c69",
   "metadata": {},
   "source": [
    "2. Creating A Pandas Data Frame and Using Sample Data Sets "
   ]
  },
  {
   "cell_type": "code",
   "execution_count": 4,
   "id": "b59fb54a",
   "metadata": {},
   "outputs": [],
   "source": [
    "# Creating DataFrame using a dictionary\n",
    "data = {'Name': ['John', 'Jane', 'David', 'Emma'],\n",
    "        'Age': [25, 30, 35, 28],\n",
    "        'City': ['New York', 'London', 'Paris', 'Sydney']}\n",
    "\n",
    "df = pd.DataFrame(data)"
   ]
  },
  {
   "cell_type": "code",
   "execution_count": 5,
   "id": "a8aeaa17",
   "metadata": {},
   "outputs": [
    {
     "name": "stdout",
     "output_type": "stream",
     "text": [
      "    Name  Age      City\n",
      "0   John   25  New York\n",
      "1   Jane   30    London\n",
      "2  David   35     Paris\n",
      "3   Emma   28    Sydney\n"
     ]
    }
   ],
   "source": [
    "print(df)"
   ]
  },
  {
   "cell_type": "markdown",
   "id": "f97d82a5",
   "metadata": {},
   "source": [
    "3. Using NumPy, create a Pandas Data Frame with five rows and three columns"
   ]
  },
  {
   "cell_type": "code",
   "execution_count": 2,
   "id": "2ce6181c",
   "metadata": {},
   "outputs": [],
   "source": [
    "import numpy as np\n",
    "import pandas as pd"
   ]
  },
  {
   "cell_type": "code",
   "execution_count": 3,
   "id": "4ded49bf",
   "metadata": {},
   "outputs": [],
   "source": [
    "# Create a 5x3 array of random numbers\n",
    "data = np.random.rand(5, 3)\n",
    "\n",
    "# Create a Pandas Data Frame from the array\n",
    "df = pd.DataFrame(data, columns=['Column 1', 'Column 2', 'Column 3'])"
   ]
  },
  {
   "cell_type": "markdown",
   "id": "1ebe1f83",
   "metadata": {},
   "source": [
    "4. For a Pandas Data Frame created from a NumPy array, what is the default behavior for \n",
    "the labels for the columns? For the rows?"
   ]
  },
  {
   "cell_type": "markdown",
   "id": "b37b32e8",
   "metadata": {},
   "source": [
    "For a Pandas Data Frame created from a NumPy array, the default behavior for the labels for the columns is to have integer labels starting from 0 and incrementing by 1. \n",
    "\n",
    "The default behavior for the labels for the rows is also to have integer labels starting from 0 and incrementing by 1."
   ]
  },
  {
   "cell_type": "markdown",
   "id": "941bbfea",
   "metadata": {},
   "source": [
    "5. take csv file contains at least 10,000 rows and 12 columns which numerical and text values \n",
    "according to that continue following steps. "
   ]
  },
  {
   "cell_type": "code",
   "execution_count": null,
   "id": "590f380c",
   "metadata": {},
   "outputs": [],
   "source": [
    "import pandas as pd\n",
    "\n",
    "df_csv = pd.read_csv('your_File.csv')\n",
    "\n",
    "summary_statistics = df_csv.describe()\n",
    "print(summary_statistics)"
   ]
  },
  {
   "cell_type": "markdown",
   "id": "ea9945e4",
   "metadata": {},
   "source": [
    "6. Write the code to show the number of rows and columns in data frame. "
   ]
  },
  {
   "cell_type": "code",
   "execution_count": null,
   "id": "64128640",
   "metadata": {},
   "outputs": [],
   "source": [
    "num_rows,num_column = df.shape\n",
    "print(f\"Number of rows: {num_rows}\")\n",
    "print(f\"Number of columns: {num_columns}\")"
   ]
  },
  {
   "cell_type": "markdown",
   "id": "fb81ce2c",
   "metadata": {},
   "source": [
    "7. How might you show the first few rows of data frame?"
   ]
  },
  {
   "cell_type": "code",
   "execution_count": 14,
   "id": "3a9d71f2",
   "metadata": {},
   "outputs": [
    {
     "name": "stdout",
     "output_type": "stream",
     "text": [
      "   Column 1  Column 2  Column 3\n",
      "0  0.035569  0.399130  0.853734\n",
      "1  0.515483  0.901905  0.621682\n",
      "2  0.807909  0.266100  0.695910\n",
      "3  0.420535  0.605016  0.350179\n",
      "4  0.021670  0.034281  0.544046\n"
     ]
    }
   ],
   "source": [
    "first_few_row = df.head()\n",
    "print(first_few_row)"
   ]
  },
  {
   "cell_type": "markdown",
   "id": "e3795fd5",
   "metadata": {},
   "source": [
    "8. If you select a single column from the diamonds Data Frame, what will be the type of the \n",
    "return value? "
   ]
  },
  {
   "cell_type": "code",
   "execution_count": null,
   "id": "c113785e",
   "metadata": {},
   "outputs": [],
   "source": [
    "single_column = df['ColumnName']  # Replace 'ColumnName' with the actual column name\n",
    "print(type(single_column))"
   ]
  },
  {
   "cell_type": "markdown",
   "id": "70feee68",
   "metadata": {},
   "source": [
    "9. Create a line plot using the x and y values provided below. Label the y-axis as “Y” and \n",
    "label the x-axis as “X”. \n",
    "x = [3, 4, 5, 6] \n",
    "y = [1.5, 2, 2.5, 3]"
   ]
  },
  {
   "cell_type": "code",
   "execution_count": 18,
   "id": "c85de64b",
   "metadata": {},
   "outputs": [],
   "source": [
    "import matplotlib.pyplot as plt"
   ]
  },
  {
   "cell_type": "code",
   "execution_count": 19,
   "id": "f7144371",
   "metadata": {},
   "outputs": [],
   "source": [
    "x = [3, 4, 5, 6]\n",
    "y = [1.5, 2, 2.5, 3]"
   ]
  },
  {
   "cell_type": "code",
   "execution_count": 21,
   "id": "f5ef8574",
   "metadata": {},
   "outputs": [
    {
     "data": {
      "image/png": "[encoded data removed]",
      "text/plain": [
       "<Figure size 640x480 with 1 Axes>"
      ]
     },
     "metadata": {},
     "output_type": "display_data"
    }
   ],
   "source": [
    "plt.plot(x, y)\n",
    "plt.xlabel('X')\n",
    "plt.ylabel('Y')\n",
    "plt.title('Line Plot')\n",
    "plt.show()\n"
   ]
  },
  {
   "cell_type": "markdown",
   "id": "95ac9495",
   "metadata": {},
   "source": [
    "10. Create an array of numbers between 0 and 6 with increments of 0.3 and name its “x”. \n",
    "Then on the same plot, plot x, x², x³, and x⁴. For consistency, use the following style lines \n",
    "respectively, “ro”, “bs”, “g”, and “:”. Lastly, make sure that the x-axis covers 0 to 6, while \n",
    "the y-axis spans from 0 to 125. Do not worry if you are not familiar with the style lines — \n",
    "you will recognize them as soon as you see the plot. \n"
   ]
  },
  {
   "cell_type": "code",
   "execution_count": 22,
   "id": "58097167",
   "metadata": {},
   "outputs": [],
   "source": [
    "import numpy as np\n",
    "import matplotlib.pyplot as plt"
   ]
  },
  {
   "cell_type": "code",
   "execution_count": 23,
   "id": "5329c190",
   "metadata": {},
   "outputs": [
    {
     "data": {
      "image/png": "[encoded data removed]",
      "text/plain": [
       "<Figure size 640x480 with 1 Axes>"
      ]
     },
     "metadata": {},
     "output_type": "display_data"
    }
   ],
   "source": [
    "#Create an array of numbers between 0 and 6 with increments of 0.3\n",
    "x = np.arange(0, 6.3, 0.3)\n",
    "\n",
    "# Plot x, x², x³, and x⁴ on the same plot\n",
    "plt.plot(x, x, 'ro', label='x')     # red circles\n",
    "plt.plot(x, x**2, 'bs', label='x²')  # blue squares\n",
    "plt.plot(x, x**3, 'g', label='x³')   # green line\n",
    "plt.plot(x, x**4, ':', label='x⁴')  # dotted line\n",
    "\n",
    "# Set x-axis and y-axis limits\n",
    "plt.xlim(0, 6)\n",
    "plt.ylim(0, 125)\n",
    "\n",
    "# Add labels and legend\n",
    "plt.xlabel('x-axis')\n",
    "plt.ylabel('y-axis')\n",
    "plt.legend()\n",
    "\n",
    "# Show the plot\n",
    "plt.show()"
   ]
  },
  {
   "cell_type": "markdown",
   "id": "65e115b8",
   "metadata": {},
   "source": [
    "11. Heights and initials of a group of individuals are provided below. Create a bar plot titled \n",
    "“Height Comparison” to compare the heights among this group. \n",
    "height = [179, 155, 191, 152, 188, 177] \n",
    "names = ['QA', 'WB', 'EC', 'RD', 'TE', 'YF'] "
   ]
  },
  {
   "cell_type": "code",
   "execution_count": 24,
   "id": "e5671528",
   "metadata": {},
   "outputs": [
    {
     "data": {
      "image/png": "[encoded data removed]",
      "text/plain": [
       "<Figure size 640x480 with 1 Axes>"
      ]
     },
     "metadata": {},
     "output_type": "display_data"
    }
   ],
   "source": [
    "height = [179, 155, 191, 152, 188, 177]\n",
    "names = ['QA', 'WB', 'EC', 'RD', 'TE', 'YF'] \n",
    "\n",
    "plt.bar(names,height)\n",
    "plt.xlabel('X')\n",
    "plt.ylabel('Y')\n",
    "plt.title('Height Comparison')\n",
    "plt.show()"
   ]
  },
  {
   "cell_type": "markdown",
   "id": "0d3e98b3",
   "metadata": {},
   "source": [
    "12. Plot a histogram of x, where x consists of 100,000 randomly-selected points with a normal \n",
    "distribution (hint: you can use numpy.random.randn() to generate the random points). The \n",
    "histogram should have 10 bins. Look at how the histogram changes when we try 20 and 50 \n",
    "bins. "
   ]
  },
  {
   "cell_type": "code",
   "execution_count": 25,
   "id": "8aea5b5b",
   "metadata": {},
   "outputs": [
    {
     "data": {
      "image/png": "[encoded data removed]",
      "text/plain": [
       "<Figure size 1200x600 with 3 Axes>"
      ]
     },
     "metadata": {},
     "output_type": "display_data"
    }
   ],
   "source": [
    "x = np.random.randn(100000)\n",
    "\n",
    "# Plot histogram with 10 bins\n",
    "plt.figure(figsize=(12, 6))\n",
    "plt.subplot(2, 2, 1)\n",
    "plt.hist(x, bins=10, color='blue', alpha=0.7)\n",
    "plt.title('Histogram with 10 Bins')\n",
    "\n",
    "# Plot histogram with 20 bins\n",
    "plt.subplot(2, 2, 2)\n",
    "plt.hist(x, bins=20, color='green', alpha=0.7)\n",
    "plt.title('Histogram with 20 Bins')\n",
    "\n",
    "# Plot histogram with 50 bins\n",
    "plt.subplot(2, 2, 3)\n",
    "plt.hist(x, bins=50, color='orange', alpha=0.7)\n",
    "plt.title('Histogram with 50 Bins')\n",
    "\n",
    "# Show the plots\n",
    "plt.tight_layout()\n",
    "plt.show()"
   ]
  },
  {
   "cell_type": "markdown",
   "id": "55c08708",
   "metadata": {},
   "source": [
    "13. What are the features of TensorFlow? "
   ]
  },
  {
   "cell_type": "markdown",
   "id": "36919bd1",
   "metadata": {},
   "source": [
    "TensorFlow is an open-source machine learning library developed by Google. Some features of TensorFlow include:\n",
    "\n",
    "Flexibility: TensorFlow provides a flexible platform for building and deploying machine learning models across various devices and environments.\n",
    "\n",
    "Scalability: TensorFlow supports distributed computing, allowing for the efficient training and deployment of models on multiple devices or servers.\n",
    "\n",
    "Comprehensive Ecosystem: TensorFlow offers a comprehensive ecosystem of tools, libraries, and community resources to support various machine learning tasks.\n",
    "\n",
    "High-Performance: TensorFlow is designed to efficiently execute computational graphs on both CPUs and GPUs, enabling high-performance machine learning computations.\n",
    "\n",
    "TensorBoard: TensorFlow includes TensorBoard, a visualization tool that helps in understanding, debugging, and optimizing machine learning models."
   ]
  },
  {
   "cell_type": "markdown",
   "id": "6e1dea38",
   "metadata": {},
   "source": [
    "14. List a few limitations of TensorFlow. "
   ]
  },
  {
   "cell_type": "markdown",
   "id": "c1618477",
   "metadata": {},
   "source": [
    "Steep Learning Curve: TensorFlow has a steep learning curve, especially for beginners, due to its complexity and the need to understand concepts like computational graphs.\n",
    "\n",
    "Verbosity: Writing TensorFlow code can be verbose, which may make it less intuitive compared to some higher-level libraries.\n",
    "\n",
    "Community Support: While TensorFlow has a large and active community, certain issues may not have as much community support as some other machine learning libraries."
   ]
  },
  {
   "cell_type": "markdown",
   "id": "74ccf359",
   "metadata": {},
   "source": [
    "15. What do you know about supervised and unsupervised machine learning?"
   ]
  },
  {
   "cell_type": "markdown",
   "id": "754de2a0",
   "metadata": {},
   "source": [
    "Supervised Learning: In supervised learning, the algorithm is trained on a labeled dataset, where each input is associated with a corresponding output. The goal is to learn a mapping from inputs to outputs, making it possible to predict the output for new, unseen inputs.\n",
    "\n",
    "Unsupervised Learning: In unsupervised learning, the algorithm is given an unlabeled dataset and is tasked with finding patterns or relationships within the data without explicit guidance. Clustering and dimensionality reduction are common tasks in unsupervised learning.\n",
    "\n",
    "If you have any more questions or need further clarification, feel free to ask!\n",
    "\n"
   ]
  }
 ],
 "metadata": {
  "kernelspec": {
   "display_name": "Python 3 (ipykernel)",
   "language": "python",
   "name": "python3"
  },
  "language_info": {
   "codemirror_mode": {
    "name": "ipython",
    "version": 3
   },
   "file_extension": ".py",
   "mimetype": "text/x-python",
   "name": "python",
   "nbconvert_exporter": "python",
   "pygments_lexer": "ipython3",
   "version": "3.11.4"
  }
 },
 "nbformat": 4,
 "nbformat_minor": 5
}
